{
 "cells": [
  {
   "cell_type": "code",
   "execution_count": null,
   "id": "56001ebe",
   "metadata": {},
   "outputs": [],
   "source": [
    "def load_cv(filename):\n",
    "    cv = {}\n",
    "    with open(filename, 'r') as file:\n",
    "        for line in file:\n",
    "            parts = line.strip().split(':')\n",
    "            if len(parts) == 2:\n",
    "                cv[parts[0]] = parts[1]\n",
    "    return cv\n",
    "\n",
    "def encode_text(text, cv):\n",
    "    encoded_text = []\n",
    "    for line in text.split('\\n'):\n",
    "        encoded_line = ''.join(cv.get(char, '') for char in line)\n",
    "        encoded_text.append(encoded_line)\n",
    "    return '\\n'.join(encoded_text)\n",
    "\n",
    "def main():\n",
    "    cv = read_cv('''put whateverr encoding text file here''')\n",
    "\n",
    "    txt = input(\"Enter the text to be encoded: \")\n",
    "\n",
    "    encoded_text = encode_text(txt, code_vectors)\n",
    "\n",
    "    print(\"Encoded Text:\")\n",
    "    print(encoded_text)"
   ]
  }
 ],
 "metadata": {
  "kernelspec": {
   "display_name": "Python 3 (ipykernel)",
   "language": "python",
   "name": "python3"
  },
  "language_info": {
   "codemirror_mode": {
    "name": "ipython",
    "version": 3
   },
   "file_extension": ".py",
   "mimetype": "text/x-python",
   "name": "python",
   "nbconvert_exporter": "python",
   "pygments_lexer": "ipython3",
   "version": "3.10.9"
  }
 },
 "nbformat": 4,
 "nbformat_minor": 5
}
